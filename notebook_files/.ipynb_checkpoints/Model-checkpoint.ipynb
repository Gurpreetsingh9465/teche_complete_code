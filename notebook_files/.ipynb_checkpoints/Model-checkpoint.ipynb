{
 "cells": [
  {
   "cell_type": "code",
   "execution_count": 1,
   "metadata": {},
   "outputs": [],
   "source": [
    "#libraries\n",
    "import numpy as np\n",
    "import matplotlib.pyplot as plt\n",
    "import pandas as pd"
   ]
  },
  {
   "cell_type": "code",
   "execution_count": 2,
   "metadata": {},
   "outputs": [
    {
     "data": {
      "text/html": [
       "<div>\n",
       "<style scoped>\n",
       "    .dataframe tbody tr th:only-of-type {\n",
       "        vertical-align: middle;\n",
       "    }\n",
       "\n",
       "    .dataframe tbody tr th {\n",
       "        vertical-align: top;\n",
       "    }\n",
       "\n",
       "    .dataframe thead th {\n",
       "        text-align: right;\n",
       "    }\n",
       "</style>\n",
       "<table border=\"1\" class=\"dataframe\">\n",
       "  <thead>\n",
       "    <tr style=\"text-align: right;\">\n",
       "      <th></th>\n",
       "      <th>CPU Total</th>\n",
       "      <th>CPU Package Temperature</th>\n",
       "      <th>Memory</th>\n",
       "      <th>Used Memory</th>\n",
       "      <th>Temperature</th>\n",
       "      <th>Used Space</th>\n",
       "    </tr>\n",
       "  </thead>\n",
       "  <tbody>\n",
       "    <tr>\n",
       "      <th>0</th>\n",
       "      <td>3.528023</td>\n",
       "      <td>40</td>\n",
       "      <td>48.994663</td>\n",
       "      <td>1.918564</td>\n",
       "      <td>35</td>\n",
       "      <td>92.11886</td>\n",
       "    </tr>\n",
       "    <tr>\n",
       "      <th>1</th>\n",
       "      <td>5.060095</td>\n",
       "      <td>40</td>\n",
       "      <td>48.971184</td>\n",
       "      <td>1.917644</td>\n",
       "      <td>35</td>\n",
       "      <td>92.11886</td>\n",
       "    </tr>\n",
       "    <tr>\n",
       "      <th>2</th>\n",
       "      <td>10.937500</td>\n",
       "      <td>40</td>\n",
       "      <td>49.110200</td>\n",
       "      <td>1.923088</td>\n",
       "      <td>35</td>\n",
       "      <td>92.11886</td>\n",
       "    </tr>\n",
       "    <tr>\n",
       "      <th>3</th>\n",
       "      <td>5.078125</td>\n",
       "      <td>40</td>\n",
       "      <td>49.125004</td>\n",
       "      <td>1.923668</td>\n",
       "      <td>35</td>\n",
       "      <td>92.11886</td>\n",
       "    </tr>\n",
       "    <tr>\n",
       "      <th>4</th>\n",
       "      <td>2.343750</td>\n",
       "      <td>40</td>\n",
       "      <td>49.137670</td>\n",
       "      <td>1.924164</td>\n",
       "      <td>35</td>\n",
       "      <td>92.11886</td>\n",
       "    </tr>\n",
       "  </tbody>\n",
       "</table>\n",
       "</div>"
      ],
      "text/plain": [
       "   CPU Total  CPU Package Temperature     Memory  Used Memory  Temperature  \\\n",
       "0   3.528023                       40  48.994663     1.918564           35   \n",
       "1   5.060095                       40  48.971184     1.917644           35   \n",
       "2  10.937500                       40  49.110200     1.923088           35   \n",
       "3   5.078125                       40  49.125004     1.923668           35   \n",
       "4   2.343750                       40  49.137670     1.924164           35   \n",
       "\n",
       "   Used Space  \n",
       "0    92.11886  \n",
       "1    92.11886  \n",
       "2    92.11886  \n",
       "3    92.11886  \n",
       "4    92.11886  "
      ]
     },
     "execution_count": 2,
     "metadata": {},
     "output_type": "execute_result"
    }
   ],
   "source": [
    "#loading the dataset\n",
    "dataset = pd.read_csv(\"Dataset.csv\")\n",
    "dataset.head()"
   ]
  },
  {
   "cell_type": "code",
   "execution_count": 3,
   "metadata": {},
   "outputs": [],
   "source": [
    "#removing cpu temp from dataset\n",
    "dataset.head()\n",
    "dataset.dtypes\n",
    "ds  = dataset.drop(columns = 'CPU Package Temperature')\n",
    "ds = ds.drop(columns = 'Used Space')\n",
    "ds = ds.drop(columns = 'Memory')"
   ]
  },
  {
   "cell_type": "code",
   "execution_count": 4,
   "metadata": {},
   "outputs": [],
   "source": [
    "from sklearn.preprocessing import StandardScaler\n",
    "X = ds.iloc[::].values\n",
    "scaler = StandardScaler().fit(X)"
   ]
  },
  {
   "cell_type": "code",
   "execution_count": 5,
   "metadata": {},
   "outputs": [],
   "source": [
    "scaled_x = scaler.transform(X)"
   ]
  },
  {
   "cell_type": "code",
   "execution_count": 6,
   "metadata": {},
   "outputs": [
    {
     "data": {
      "text/plain": [
       "(2190, 3)"
      ]
     },
     "execution_count": 6,
     "metadata": {},
     "output_type": "execute_result"
    }
   ],
   "source": [
    "scaled_x.shape"
   ]
  },
  {
   "cell_type": "code",
   "execution_count": 7,
   "metadata": {},
   "outputs": [],
   "source": [
    "data = pd.read_csv(\"Dataset.csv\")\n",
    "data.head()\n",
    "Y = np.array(data.iloc[:,1].values).reshape((-1,1))\n",
    "scaler_y = StandardScaler().fit(Y)\n",
    "scaled_y = scaler_y.transform(Y)"
   ]
  },
  {
   "cell_type": "code",
   "execution_count": 8,
   "metadata": {},
   "outputs": [
    {
     "data": {
      "text/plain": [
       "array([[40],\n",
       "       [40],\n",
       "       [40],\n",
       "       ...,\n",
       "       [48],\n",
       "       [48],\n",
       "       [48]], dtype=int64)"
      ]
     },
     "execution_count": 8,
     "metadata": {},
     "output_type": "execute_result"
    }
   ],
   "source": [
    "Y"
   ]
  },
  {
   "cell_type": "code",
   "execution_count": 9,
   "metadata": {},
   "outputs": [
    {
     "data": {
      "text/plain": [
       "array([[-1.46396389],\n",
       "       [-1.46396389],\n",
       "       [-1.46396389],\n",
       "       ...,\n",
       "       [ 0.11451155],\n",
       "       [ 0.11451155],\n",
       "       [ 0.11451155]])"
      ]
     },
     "execution_count": 9,
     "metadata": {},
     "output_type": "execute_result"
    }
   ],
   "source": [
    "scaled_y"
   ]
  },
  {
   "cell_type": "code",
   "execution_count": 10,
   "metadata": {},
   "outputs": [
    {
     "data": {
      "text/plain": [
       "LinearRegression(copy_X=True, fit_intercept=True, n_jobs=None, normalize=False)"
      ]
     },
     "execution_count": 10,
     "metadata": {},
     "output_type": "execute_result"
    }
   ],
   "source": [
    "from sklearn.linear_model import LinearRegression\n",
    "regressor = LinearRegression()\n",
    "regressor.fit(scaled_x,scaled_y)"
   ]
  },
  {
   "cell_type": "code",
   "execution_count": 11,
   "metadata": {},
   "outputs": [],
   "source": [
    "predicted_y = regressor.predict(scaled_x)"
   ]
  },
  {
   "cell_type": "code",
   "execution_count": 12,
   "metadata": {},
   "outputs": [],
   "source": [
    "scaled_back_y = scaler_y.inverse_transform(predicted_y)"
   ]
  },
  {
   "cell_type": "code",
   "execution_count": 13,
   "metadata": {},
   "outputs": [
    {
     "data": {
      "text/plain": [
       "array([38.68092359, 38.82139737, 39.37652697, ..., 47.36144509,\n",
       "       46.78198896, 46.96407251])"
      ]
     },
     "execution_count": 13,
     "metadata": {},
     "output_type": "execute_result"
    }
   ],
   "source": [
    "scaled_back_y[:,0]"
   ]
  },
  {
   "cell_type": "code",
   "execution_count": 14,
   "metadata": {},
   "outputs": [
    {
     "data": {
      "text/plain": [
       "array([40, 40, 40, ..., 48, 48, 48], dtype=int64)"
      ]
     },
     "execution_count": 14,
     "metadata": {},
     "output_type": "execute_result"
    }
   ],
   "source": [
    "Y[:,0]"
   ]
  },
  {
   "cell_type": "code",
   "execution_count": 15,
   "metadata": {},
   "outputs": [
    {
     "data": {
      "image/png": "[encoded data removed]",
      "text/plain": [
       "<Figure size 432x288 with 1 Axes>"
      ]
     },
     "metadata": {
      "needs_background": "light"
     },
     "output_type": "display_data"
    },
    {
     "data": {
      "image/png": "[encoded data removed]",
      "text/plain": [
       "<Figure size 432x288 with 1 Axes>"
      ]
     },
     "metadata": {
      "needs_background": "light"
     },
     "output_type": "display_data"
    },
    {
     "data": {
      "image/png": "[encoded data removed]",
      "text/plain": [
       "<Figure size 432x288 with 1 Axes>"
      ]
     },
     "metadata": {
      "needs_background": "light"
     },
     "output_type": "display_data"
    }
   ],
   "source": [
    "#output feature\n",
    "for i in range(3):\n",
    "#     plt.subplot(4, 2,i+1)\n",
    "    plot_x = X[500:600,i]\n",
    "    plt.scatter(plot_x, Y[500:600,0], color = 'red')\n",
    "    plt.scatter(plot_x,scaled_back_y[500:600,0] , color = 'blue')\n",
    "    plt.show()"
   ]
  },
  {
   "cell_type": "code",
   "execution_count": 16,
   "metadata": {},
   "outputs": [],
   "source": [
    "#CPU_Total Used_Memory Temperature"
   ]
  },
  {
   "cell_type": "code",
   "execution_count": 17,
   "metadata": {},
   "outputs": [],
   "source": [
    "from pickle import dump\n",
    "# save scaler(for x) scaler_y(for_y) regressor(for predict)\n",
    "dump(scaler, open('scaler_x.pkl', 'wb'))\n",
    "dump(scaler_y, open('scaler_y.pkl', 'wb'))\n",
    "dump(regressor, open('model.pkl', 'wb'))"
   ]
  },
  {
   "cell_type": "code",
   "execution_count": 18,
   "metadata": {},
   "outputs": [],
   "source": [
    "from pickle import load\n",
    "scaler_x = load(open('scaler_x.pkl', 'rb'))\n",
    "scaler_y = load(open('scaler_y.pkl','rb'))\n",
    "regressor = load(open('model.pkl','rb'))"
   ]
  },
  {
   "cell_type": "code",
   "execution_count": 19,
   "metadata": {},
   "outputs": [],
   "source": [
    "def predict(cpu_used, momory_used, temp):\n",
    "    inp = np.array([cpu_used,memory_used,temp]).reshape(1,-1)\n",
    "    inp = scaler_x.transform(inp)\n",
    "    y = regressor.predict(inp)\n",
    "    y = scaler_y.inverse_transform(y)\n",
    "    return y[0][0]"
   ]
  },
  {
   "cell_type": "code",
   "execution_count": 20,
   "metadata": {},
   "outputs": [
    {
     "data": {
      "text/plain": [
       "29.77845209917437"
      ]
     },
     "execution_count": 20,
     "metadata": {},
     "output_type": "execute_result"
    }
   ],
   "source": [
    "CPU_total = 3.5\n",
    "memory_used = 2.5\n",
    "temp = 25\n",
    "predict(CPU_total, memory_used, temp)"
   ]
  },
  {
   "cell_type": "code",
   "execution_count": null,
   "metadata": {},
   "outputs": [],
   "source": []
  },
  {
   "cell_type": "code",
   "execution_count": null,
   "metadata": {},
   "outputs": [],
   "source": []
  }
 ],
 "metadata": {
  "kernelspec": {
   "display_name": "Python 3",
   "language": "python",
   "name": "python3"
  },
  "language_info": {
   "codemirror_mode": {
    "name": "ipython",
    "version": 3
   },
   "file_extension": ".py",
   "mimetype": "text/x-python",
   "name": "python",
   "nbconvert_exporter": "python",
   "pygments_lexer": "ipython3",
   "version": "3.7.6"
  }
 },
 "nbformat": 4,
 "nbformat_minor": 2
}
